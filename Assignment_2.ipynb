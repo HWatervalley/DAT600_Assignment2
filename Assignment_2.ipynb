{
 "cells": [
  {
   "cell_type": "code",
   "execution_count": 12,
   "id": "c39e8248",
   "metadata": {},
   "outputs": [],
   "source": [
    "def matrix_chain_problem(p):\n",
    "    #number of matrices\n",
    "    n = len(p) - 1\n",
    "\n",
    "    # tables m and s, rows columns defined by n\n",
    "    m = [[0 for _ in range(n)] for _ in range(n)]\n",
    "    s = [[0 for _ in range(n)] for _ in range(n)]\n",
    "\n",
    "    #calculate in order of amount of matrices: 2,3,4,5\n",
    "    for matrices in range(2, n + 1):\n",
    "        #\n",
    "        for i in range(n - matrices + 1):\n",
    "            j = i + matrices - 1\n",
    "            #set values in m to infinity to satisfy later if statement\n",
    "            m[i][j] = float('inf')\n",
    "            for k in range(i, j):\n",
    "                minimum = m[i][k] + m[k + 1][j] + p[i] * p[k + 1] * p[j + 1]\n",
    "                if minimum < m[i][j]:\n",
    "                    m[i][j] = minimum\n",
    "                    s[i][j] = k+1\n",
    "                    \n",
    "\n",
    "\n",
    "    return m, s\n",
    "\n",
    "p = [3, 10, 5, 20, 7, 5]\n",
    "m,s = matrix_chain_problem(p)"
   ]
  },
  {
   "cell_type": "code",
   "execution_count": 13,
   "id": "91656d71",
   "metadata": {},
   "outputs": [
    {
     "data": {
      "text/plain": [
       "[[0, 150, 450, 870, 975],\n",
       " [0, 0, 1000, 1050, 1125],\n",
       " [0, 0, 0, 700, 875],\n",
       " [0, 0, 0, 0, 700],\n",
       " [0, 0, 0, 0, 0]]"
      ]
     },
     "execution_count": 13,
     "metadata": {},
     "output_type": "execute_result"
    }
   ],
   "source": [
    "m"
   ]
  },
  {
   "cell_type": "code",
   "execution_count": 10,
   "id": "6376ed40",
   "metadata": {},
   "outputs": [
    {
     "data": {
      "text/plain": [
       "[[0, 1, 2, 3, 4],\n",
       " [0, 0, 2, 2, 2],\n",
       " [0, 0, 0, 3, 4],\n",
       " [0, 0, 0, 0, 4],\n",
       " [0, 0, 0, 0, 0]]"
      ]
     },
     "execution_count": 10,
     "metadata": {},
     "output_type": "execute_result"
    }
   ],
   "source": [
    "s"
   ]
  },
  {
   "cell_type": "code",
   "execution_count": 23,
   "id": "3afa60a3",
   "metadata": {},
   "outputs": [
    {
     "name": "stdout",
     "output_type": "stream",
     "text": [
      "0\n",
      "1\n",
      "2\n",
      "3\n"
     ]
    }
   ],
   "source": [
    "i = 0\n",
    "for i in range(4):\n",
    "    print(i)"
   ]
  },
  {
   "cell_type": "code",
   "execution_count": 86,
   "id": "944c3e31",
   "metadata": {},
   "outputs": [],
   "source": [
    "v=[[1,5],[2,6],[4,10],[9,20],[1,3],[2,5],[4,2],[2,2]]\n",
    "W = 20"
   ]
  },
  {
   "cell_type": "code",
   "execution_count": 87,
   "id": "6265d5a2",
   "metadata": {},
   "outputs": [],
   "source": [
    "def knapsack(v,W):\n",
    "    sack = [0,0]\n",
    "    ratio = [(x[0]/x[1],x) for x in v]\n",
    "    ratio.sort()\n",
    "    for i in range(1,len(v) + 1):\n",
    "        item = ratio[-i][1]\n",
    "        if sack[1] + item[1] <= W:\n",
    "            sack[1] += item[1]\n",
    "            sack[0] += item[0]\n",
    "\n",
    "\n",
    "    return sack"
   ]
  },
  {
   "cell_type": "code",
   "execution_count": 88,
   "id": "0dbcce36",
   "metadata": {},
   "outputs": [
    {
     "data": {
      "text/plain": [
       "[12, 19]"
      ]
     },
     "execution_count": 88,
     "metadata": {},
     "output_type": "execute_result"
    }
   ],
   "source": [
    "knapsack(v,W)"
   ]
  },
  {
   "cell_type": "code",
   "execution_count": 222,
   "id": "eca81bf1",
   "metadata": {},
   "outputs": [],
   "source": [
    "def greedysack(v,W):\n",
    "    sack = [0,0]\n",
    "    v.sort(reverse=True)\n",
    "    for i in range(0,len(v)):\n",
    "        item = v[i]\n",
    "        if sack[1] + item[1] <= W:\n",
    "            sack[1] += item[1]\n",
    "            sack[0] += item[0]\n",
    "\n",
    "\n",
    "    return sack"
   ]
  },
  {
   "cell_type": "code",
   "execution_count": 223,
   "id": "44eb0156",
   "metadata": {},
   "outputs": [
    {
     "data": {
      "text/plain": [
       "[9, 20]"
      ]
     },
     "execution_count": 223,
     "metadata": {},
     "output_type": "execute_result"
    }
   ],
   "source": [
    "greedysack(v,W)"
   ]
  },
  {
   "cell_type": "code",
   "execution_count": 335,
   "id": "1371c43e",
   "metadata": {},
   "outputs": [],
   "source": [
    "import random\n",
    "import time"
   ]
  },
  {
   "cell_type": "code",
   "execution_count": 82,
   "id": "8830b616",
   "metadata": {},
   "outputs": [],
   "source": [
    "def autosack():\n",
    "    sack = [0,0]\n",
    "    n = 10\n",
    "    items = [[random.randint(1,20),random.randint(1,20)] for _ in range(n)]\n",
    "    weight = random.randint(1,60)\n",
    "    ratio = [(x[0]/x[1],x) for x in items]\n",
    "    ratio.sort()\n",
    "    for i in range(1,len(items) + 1):\n",
    "        item = ratio[-i][1]\n",
    "        if sack[1] + item[1] <= weight:\n",
    "            sack[1] += item[1]\n",
    "            sack[0] += item[0]\n",
    "\n",
    "\n",
    "    return sack, weight"
   ]
  },
  {
   "cell_type": "code",
   "execution_count": 83,
   "id": "79519f90",
   "metadata": {},
   "outputs": [
    {
     "data": {
      "text/plain": [
       "([33, 15], 15)"
      ]
     },
     "execution_count": 83,
     "metadata": {},
     "output_type": "execute_result"
    }
   ],
   "source": [
    "autosack()"
   ]
  },
  {
   "cell_type": "code",
   "execution_count": 133,
   "id": "c8dd023d",
   "metadata": {},
   "outputs": [],
   "source": [
    "def fracsack(v,W):\n",
    "    sack = [0,0]\n",
    "    ratio = [(x[0]/x[1],x) for x in v]\n",
    "    ratio.sort(reverse=True)\n",
    "    for i in range(len(v)):\n",
    "        item = ratio[i][1]\n",
    "        if sack[1] + item[1] <= W:\n",
    "            sack[1] += item[1]\n",
    "            sack[0] += item[0]\n",
    "        else:\n",
    "            remainder = W/(W-sack[1])\n",
    "            sack[1] += item[1]/remainder\n",
    "            sack[0] += item[0]/remainder\n",
    "            break\n",
    "\n",
    "    return sack"
   ]
  },
  {
   "cell_type": "code",
   "execution_count": 134,
   "id": "fe0d7484",
   "metadata": {},
   "outputs": [
    {
     "data": {
      "text/plain": [
       "[13.2, 20.0]"
      ]
     },
     "execution_count": 134,
     "metadata": {},
     "output_type": "execute_result"
    }
   ],
   "source": [
    "fracsack(v,W)"
   ]
  },
  {
   "cell_type": "code",
   "execution_count": 155,
   "id": "b3b0d5c0",
   "metadata": {},
   "outputs": [
    {
     "name": "stdout",
     "output_type": "stream",
     "text": [
      "[[3], [3], [9], [13], [14], [15], [15], [16], [16], [19]]\n"
     ]
    },
    {
     "data": {
      "text/plain": [
       "[3]"
      ]
     },
     "execution_count": 155,
     "metadata": {},
     "output_type": "execute_result"
    }
   ],
   "source": [
    "coins = [[random.randint(1,20)] for _ in range(10)]\n",
    "coins.sort()\n",
    "print(coins)\n",
    "coins[0]\n"
   ]
  },
  {
   "cell_type": "code",
   "execution_count": 329,
   "id": "3f126b7f",
   "metadata": {},
   "outputs": [],
   "source": [
    "def greedycoins(N):\n",
    "    wallet = [0,0]\n",
    "    #coins = [random.randint(1,20) for _ in range(10)]\n",
    "    coins = [1,5,6,10,20,21]\n",
    "    coins.sort(reverse=True)\n",
    "    print(coins)\n",
    "    for i in range(len(coins)):\n",
    "        coin = coins[i]\n",
    "        if wallet[1] + coin <= N:\n",
    "            wallet[1] += coin\n",
    "            wallet[0] += 1\n",
    "\n",
    "    return wallet"
   ]
  },
  {
   "cell_type": "code",
   "execution_count": 330,
   "id": "3aefdaec",
   "metadata": {},
   "outputs": [
    {
     "name": "stdout",
     "output_type": "stream",
     "text": [
      "[21, 20, 10, 6, 5, 1]\n"
     ]
    },
    {
     "data": {
      "text/plain": [
       "[6, 63]"
      ]
     },
     "execution_count": 330,
     "metadata": {},
     "output_type": "execute_result"
    }
   ],
   "source": [
    "greedycoins(157)"
   ]
  },
  {
   "cell_type": "code",
   "execution_count": 312,
   "id": "a211d6f5",
   "metadata": {},
   "outputs": [],
   "source": [
    "def greedycoins2(N):\n",
    "    wallet = [0,0]\n",
    "    coins = [1,5,10,20]\n",
    "    coins.sort(reverse=True)\n",
    "    i = 0\n",
    "    while wallet[1] < N:\n",
    "        added = False  \n",
    "        for coin in coins:\n",
    "            if wallet[1] + coin <= N:\n",
    "                wallet[1] += coin\n",
    "                wallet[0] += 1\n",
    "                added = True\n",
    "                print(\"Added coin:\", coin)\n",
    "                break  \n",
    "\n",
    "        if not added:\n",
    "            break \n",
    "\n",
    "    return wallet"
   ]
  },
  {
   "cell_type": "code",
   "execution_count": 331,
   "id": "fcb16fab",
   "metadata": {},
   "outputs": [
    {
     "name": "stdout",
     "output_type": "stream",
     "text": [
      "Added coin: 10\n",
      "Added coin: 1\n",
      "Added coin: 1\n",
      "Added coin: 1\n"
     ]
    },
    {
     "data": {
      "text/plain": [
       "[4, 13]"
      ]
     },
     "execution_count": 331,
     "metadata": {},
     "output_type": "execute_result"
    }
   ],
   "source": [
    "greedycoins2(13)"
   ]
  },
  {
   "cell_type": "code",
   "execution_count": 379,
   "id": "c2f3720b",
   "metadata": {},
   "outputs": [],
   "source": [
    "import time\n",
    "\n",
    "def coins(N):\n",
    "    start = time.time()\n",
    "    \n",
    "    pouch = [float('inf')]*(N+1)\n",
    "    pouch[0] = 0\n",
    "\n",
    "    #coins = [random.randint(1,10) for _ in range(6)]\n",
    "    coins = [1,5,10,20]\n",
    "    coins.sort()\n",
    "    print(coins)\n",
    "\n",
    "    #try for each coin\n",
    "    for coin in coins:\n",
    "        #dynamic solve up to N\n",
    "        for amount in range(coin, N + 1):\n",
    "            pouch[amount] = min(pouch[amount], pouch[amount - coin] + 1)\n",
    "            \n",
    "    end = time.time()\n",
    "    execution = end - start\n",
    "            \n",
    "    #check for possible sollution\n",
    "    if pouch[N] != float('inf'):\n",
    "        return pouch[N], execution\n",
    "    else:\n",
    "        return \"Not possible\""
   ]
  },
  {
   "cell_type": "code",
   "execution_count": 380,
   "id": "042d6cdf",
   "metadata": {},
   "outputs": [
    {
     "name": "stdout",
     "output_type": "stream",
     "text": [
      "[1, 5, 10, 20]\n"
     ]
    },
    {
     "data": {
      "text/plain": [
       "(7, 9.226799011230469e-05)"
      ]
     },
     "execution_count": 380,
     "metadata": {},
     "output_type": "execute_result"
    }
   ],
   "source": [
    "coins(77)"
   ]
  },
  {
   "cell_type": "code",
   "execution_count": 381,
   "id": "d7932886",
   "metadata": {},
   "outputs": [],
   "source": [
    "def greedycoins(N):\n",
    "    start = time.time()\n",
    "    wallet = [0,0]\n",
    "    #coins = [random.randint(1,20) for _ in range(10)]\n",
    "    coins = [1,5,10,20]\n",
    "    coins.sort(reverse=True)\n",
    "    print(coins)\n",
    "    for i in range(len(coins)):\n",
    "        coin = coins[i]\n",
    "        while wallet[1] + coin <= N:\n",
    "            wallet[1] += coin\n",
    "            wallet[0] += 1\n",
    "            \n",
    "    end = time.time()\n",
    "    execution = end - start\n",
    "    \n",
    "    return wallet, execution"
   ]
  },
  {
   "cell_type": "code",
   "execution_count": 382,
   "id": "94c65bc7",
   "metadata": {},
   "outputs": [
    {
     "name": "stdout",
     "output_type": "stream",
     "text": [
      "[20, 10, 5, 1]\n"
     ]
    },
    {
     "data": {
      "text/plain": [
       "([7, 77], 7.224082946777344e-05)"
      ]
     },
     "execution_count": 382,
     "metadata": {},
     "output_type": "execute_result"
    }
   ],
   "source": [
    "greedycoins(77)"
   ]
  },
  {
   "cell_type": "code",
   "execution_count": null,
   "id": "5669ae6e",
   "metadata": {},
   "outputs": [],
   "source": []
  }
 ],
 "metadata": {
  "kernelspec": {
   "display_name": "Python 3 (ipykernel)",
   "language": "python",
   "name": "python3"
  },
  "language_info": {
   "codemirror_mode": {
    "name": "ipython",
    "version": 3
   },
   "file_extension": ".py",
   "mimetype": "text/x-python",
   "name": "python",
   "nbconvert_exporter": "python",
   "pygments_lexer": "ipython3",
   "version": "3.11.4"
  }
 },
 "nbformat": 4,
 "nbformat_minor": 5
}
